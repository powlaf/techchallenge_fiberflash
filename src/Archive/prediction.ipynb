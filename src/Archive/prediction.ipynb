{
 "cells": [
  {
   "cell_type": "code",
   "execution_count": 128,
   "id": "127adec7",
   "metadata": {},
   "outputs": [],
   "source": [
    "import pandas as pd\n",
    "import numpy as np\n",
    "import cv2\n",
    "import torch\n",
    "import glob as glob\n",
    "from model import create_model\n",
    "from config import NUM_CLASSES, CLASSES, TEST_DIR, OUT_DIR\n",
    "from reportlab.pdfgen.canvas import Canvas\n",
    "from reportlab.lib.units import cm"
   ]
  },
  {
   "cell_type": "code",
   "execution_count": 103,
   "id": "09cc8851",
   "metadata": {},
   "outputs": [],
   "source": [
    "def predict_objects(model_name, image_name, detection_threshold=None, return_type='df', visualise=False, save=False):\n",
    "    # set the computation device\n",
    "    device = torch.device('cuda') if torch.cuda.is_available() else torch.device('cpu')\n",
    "    \n",
    "    # load the model and the trained weights\n",
    "    model = create_model(num_classes=NUM_CLASSES).to(device)\n",
    "    model.load_state_dict(torch.load('../outputs/{}'.format(model_name), map_location=device))\n",
    "    model.eval()\n",
    "    \n",
    "    # directory where all the images are present\n",
    "    test_images = glob.glob(f\"{TEST_DIR}/{image_name}*\")\n",
    "    print(f\"Test instances: {len(test_images)}\")\n",
    "    \n",
    "    # read in image\n",
    "    image = cv2.imread(test_images[0])\n",
    "    orig_image = image.copy()\n",
    "    # BGR to RGB\n",
    "    image = cv2.cvtColor(orig_image, cv2.COLOR_BGR2RGB).astype(np.float32)\n",
    "    # make the pixel range between 0 and 1\n",
    "    image /= 255.0\n",
    "    # bring color channels to front\n",
    "    image = np.transpose(image, (2, 0, 1)).astype(np.float)\n",
    "    # convert to tensor\n",
    "    image = torch.tensor(image, dtype=torch.float)\n",
    "    # add batch dimension\n",
    "    image = torch.unsqueeze(image, 0)\n",
    "    with torch.no_grad():\n",
    "        results = model(image)\n",
    "\n",
    "    # visualise picture\n",
    "    if visualise:\n",
    "        # load all detection to CPU for further operations\n",
    "        outputs = [{k: v.to('cpu') for k, v in t.items()} for t in results]\n",
    "        # carry further only if there are detected boxes\n",
    "        if len(outputs[0]['boxes']) != 0:\n",
    "            boxes = outputs[0]['boxes'].data.numpy()\n",
    "            scores = outputs[0]['scores'].data.numpy()\n",
    "            # filter out boxes according to `detection_threshold`\n",
    "            boxes = boxes[scores >= detection_threshold].astype(np.int32)\n",
    "            draw_boxes = boxes.copy()\n",
    "            # get all the predicited class names\n",
    "            pred_classes = [CLASSES[i] for i in outputs[0]['labels'].cpu().numpy()]\n",
    "\n",
    "            # draw the bounding boxes and write the class name on top of it\n",
    "            for j, box in enumerate(draw_boxes):\n",
    "                cv2.rectangle(orig_image,\n",
    "                              (int(box[0]), int(box[1])),\n",
    "                              (int(box[2]), int(box[3])),\n",
    "                              (0, 0, 255), 2)\n",
    "                cv2.putText(orig_image, pred_classes[j],\n",
    "                            (int(box[0]), int(box[1] - 5)),\n",
    "                            cv2.FONT_HERSHEY_SIMPLEX, 0.7, (0, 255, 0),\n",
    "                            2, lineType=cv2.LINE_AA)\n",
    "            cv2.imshow('Prediction', orig_image)\n",
    "            cv2.waitKey(1)\n",
    "            if save:\n",
    "                cv2.imwrite(f\"../test_predictions/{image_name}.jpg\", orig_image, )\n",
    "            cv2.destroyAllWindows()\n",
    "    \n",
    "    # return results as df for all instances above detection_threshold\n",
    "    results = results[0]\n",
    "    results_df = pd.DataFrame(results['boxes'], columns=['x_topleft', 'y_topleft', 'x_bottomright', 'y_bottomright'])\n",
    "    results_df['labels'] = results['labels']\n",
    "    results_df['scores'] = results['scores']\n",
    "    results_df['width'] = results_df['x_bottomright'] - results_df['x_topleft']\n",
    "    results_df['height'] = results_df['y_bottomright'] - results_df['y_topleft']\n",
    "    \n",
    "    if detection_threshold==None:\n",
    "        return results_df, orig_image.shape\n",
    "    \n",
    "    else:\n",
    "        return results_df.loc[results_df['scores'] > detection_threshold], orig_image.shape\n",
    "    "
   ]
  },
  {
   "cell_type": "code",
   "execution_count": null,
   "id": "d5a184b7",
   "metadata": {},
   "outputs": [],
   "source": [
    "def create_cutting_file(file_name, results, image_shape):\n",
    "    # create jpg with cv2\n",
    "    img = np.zeros(list(image_shape), dtype=np.uint8)\n",
    "    img.fill(255)\n",
    "    \n",
    "    # fill with rectangles for object detection/cutting\n",
    "    for index, row in results.iterrows():\n",
    "        cv2.rectangle(img,\n",
    "                      (int(row['x_topleft']), int(row['y_topleft'])),\n",
    "                      (int(row['x_bottomright']), int(row['y_bottomright'])),\n",
    "                      (0, 0, 255), 2)\n",
    "    cv2.imwrite(f\"{OUT_DIR}/cutting_file/{file_name}.jpg\", img)\n",
    "    \n",
    "    # convert to pdf\n",
    "    img_pdf = Image.open(f\"{OUT_DIR}/cutting_file/{file_name}.jpg\")\n",
    "    img_pdf = img_pdf.convert('RGB')\n",
    "    img_pdf.save(f\"{OUT_DIR}/cutting_file/{file_name}.pdf\")\n",
    "    "
   ]
  },
  {
   "cell_type": "code",
   "execution_count": 112,
   "id": "d8abba7a",
   "metadata": {},
   "outputs": [
    {
     "name": "stdout",
     "output_type": "stream",
     "text": [
      "Test instances: 1\n"
     ]
    },
    {
     "name": "stderr",
     "output_type": "stream",
     "text": [
      "/var/folders/46/wsswctf55vdfp6kz49kfbqtm0000gn/T/ipykernel_71922/1368400644.py:22: DeprecationWarning: `np.float` is a deprecated alias for the builtin `float`. To silence this warning, use `float` by itself. Doing this will not modify any behavior and is safe. If you specifically wanted the numpy scalar type, use `np.float64` here.\n",
      "Deprecated in NumPy 1.20; for more details and guidance: https://numpy.org/devdocs/release/1.20.0-notes.html#deprecations\n",
      "  image = np.transpose(image, (2, 0, 1)).astype(np.float)\n"
     ]
    }
   ],
   "source": [
    "# define parameters\n",
    "model_name = 'output_03_epoch10/model10.pth'\n",
    "detection_threshold = 0.8 # any detection having score below this will be discarded\n",
    "image_name = 'image_test'\n",
    "\n",
    "# call functions\n",
    "results, image_shape = predict_objects(model_name, image_name, detection_threshold, return_type='dict', visualise=True)\n",
    "create_cutting_file('test', results, image_shape)\n"
   ]
  },
  {
   "cell_type": "code",
   "execution_count": null,
   "id": "7bc1baa7",
   "metadata": {},
   "outputs": [],
   "source": []
  },
  {
   "cell_type": "code",
   "execution_count": null,
   "id": "604c248b",
   "metadata": {},
   "outputs": [],
   "source": []
  }
 ],
 "metadata": {
  "kernelspec": {
   "display_name": "Python 3 (ipykernel)",
   "language": "python",
   "name": "python3"
  },
  "language_info": {
   "codemirror_mode": {
    "name": "ipython",
    "version": 3
   },
   "file_extension": ".py",
   "mimetype": "text/x-python",
   "name": "python",
   "nbconvert_exporter": "python",
   "pygments_lexer": "ipython3",
   "version": "3.9.12"
  }
 },
 "nbformat": 4,
 "nbformat_minor": 5
}

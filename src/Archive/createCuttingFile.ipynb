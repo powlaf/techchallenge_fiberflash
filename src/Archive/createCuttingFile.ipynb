{
 "cells": [
  {
   "cell_type": "code",
   "execution_count": 7,
   "id": "73846313",
   "metadata": {},
   "outputs": [],
   "source": [
    "from reportlab.pdfgen.canvas import Canvas\n",
    "from reportlab.lib.units import cm"
   ]
  },
  {
   "cell_type": "code",
   "execution_count": null,
   "id": "61340ad9",
   "metadata": {},
   "outputs": [],
   "source": []
  },
  {
   "cell_type": "code",
   "execution_count": 2,
   "id": "05ce7ad4",
   "metadata": {},
   "outputs": [],
   "source": [
    "def create_cutting_file(save_path, x, y, height, width, pagesize):\n",
    "    \n",
    "    canvas = Canvas(path, pagesize=pagesize) # 2268 x 1276\n",
    "\n",
    "    canvas.setStrokeColorRGB(255,0,0)\n",
    "    canvas.rect(x, y, width, height, stroke=1, fill=0)\n",
    "\n",
    "    canvas.save()\n",
    "    "
   ]
  },
  {
   "cell_type": "code",
   "execution_count": 97,
   "id": "92efe8b4",
   "metadata": {},
   "outputs": [],
   "source": [
    "pagesize = (80*cm, 45*cm)\n",
    "height = 2*cm\n",
    "width = 3*cm\n",
    "x = 39*cm\n",
    "y = 30*cm\n",
    "path = \"../outputs/cutting_file/hello.pdf\""
   ]
  },
  {
   "cell_type": "code",
   "execution_count": 98,
   "id": "c4592db5",
   "metadata": {},
   "outputs": [],
   "source": [
    "create_cutting_file(x, y, height, width, path)"
   ]
  }
 ],
 "metadata": {
  "kernelspec": {
   "display_name": "Python 3 (ipykernel)",
   "language": "python",
   "name": "python3"
  },
  "language_info": {
   "codemirror_mode": {
    "name": "ipython",
    "version": 3
   },
   "file_extension": ".py",
   "mimetype": "text/x-python",
   "name": "python",
   "nbconvert_exporter": "python",
   "pygments_lexer": "ipython3",
   "version": "3.9.12"
  }
 },
 "nbformat": 4,
 "nbformat_minor": 5
}

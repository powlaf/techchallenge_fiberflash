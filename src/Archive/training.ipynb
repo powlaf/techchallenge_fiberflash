{
 "cells": [
  {
   "cell_type": "code",
   "execution_count": 1,
   "id": "92ea1448",
   "metadata": {},
   "outputs": [
    {
     "name": "stdout",
     "output_type": "stream",
     "text": [
      "Number of training samples: 10\n",
      "Number of validation samples: 4\n",
      "\n"
     ]
    }
   ],
   "source": [
    "from config import DEVICE, NUM_CLASSES, NUM_EPOCHS, OUT_DIR\n",
    "from config import VISUALIZE_TRANSFORMED_IMAGES\n",
    "from config import SAVE_PLOTS_EPOCH, SAVE_MODEL_EPOCH\n",
    "from model import create_model\n",
    "from utils import Averager\n",
    "from tqdm.auto import tqdm\n",
    "from datasets import train_loader, valid_loader, ButtonDataset\n",
    "import torch\n",
    "import matplotlib.pyplot as plt\n",
    "import time\n",
    "\n",
    "plt.style.use('ggplot')"
   ]
  },
  {
   "cell_type": "code",
   "execution_count": 2,
   "id": "2a6697a9",
   "metadata": {},
   "outputs": [],
   "source": [
    "# function for running training iterations\n",
    "def train(train_data_loader, model):\n",
    "    print('Training')\n",
    "    global train_itr\n",
    "    global train_loss_list\n",
    "\n",
    "    # initialize tqdm progress bar\n",
    "    prog_bar = tqdm(train_data_loader, total=len(train_data_loader))\n",
    "\n",
    "    for i, data in enumerate(prog_bar):\n",
    "        optimizer.zero_grad()\n",
    "        images, targets = data\n",
    "\n",
    "        images = list(image.to(DEVICE) for image in images)\n",
    "        targets = [{k: v.to(DEVICE) for k, v in t.items()} for t in targets]\n",
    "        loss_dict = model(images, targets)\n",
    "        losses = sum(loss for loss in loss_dict.values())\n",
    "        loss_value = losses.item()\n",
    "        train_loss_list.append(loss_value)\n",
    "        train_loss_hist.send(loss_value)\n",
    "        losses.backward()\n",
    "        optimizer.step()\n",
    "        train_itr += 1\n",
    "\n",
    "        # update the loss value beside the progress bar for each iteration\n",
    "        prog_bar.set_description(desc=f\"Loss: {loss_value:.4f}\")\n",
    "    return train_loss_list"
   ]
  },
  {
   "cell_type": "code",
   "execution_count": 3,
   "id": "7e0d8cfc",
   "metadata": {},
   "outputs": [],
   "source": [
    "# function for running validation iterations\n",
    "def validate(valid_data_loader, model):\n",
    "    print('Validating')\n",
    "    global val_itr\n",
    "    global val_loss_list\n",
    "\n",
    "    # initialize tqdm progress bar\n",
    "    prog_bar = tqdm(valid_data_loader, total=len(valid_data_loader))\n",
    "\n",
    "    for i, data in enumerate(prog_bar):\n",
    "        images, targets = data\n",
    "\n",
    "        images = list(image.to(DEVICE) for image in images)\n",
    "        targets = [{k: v.to(DEVICE) for k, v in t.items()} for t in targets]\n",
    "\n",
    "        with torch.no_grad():\n",
    "            loss_dict = model(images, targets)\n",
    "\n",
    "        losses = sum(loss for loss in loss_dict.values())\n",
    "        loss_value = losses.item()\n",
    "        val_loss_list.append(loss_value)\n",
    "\n",
    "        val_loss_hist.send(loss_value)\n",
    "\n",
    "        val_itr += 1\n",
    "\n",
    "        # update the loss value beside the progress bar for each iteration\n",
    "        prog_bar.set_description(desc=f\"Loss: {loss_value:.4f}\")\n",
    "    return val_loss_list"
   ]
  },
  {
   "cell_type": "code",
   "execution_count": 4,
   "id": "84422005",
   "metadata": {},
   "outputs": [
    {
     "name": "stdout",
     "output_type": "stream",
     "text": [
      "\n",
      "EPOCH 1 of 10\n",
      "Training\n"
     ]
    },
    {
     "data": {
      "application/vnd.jupyter.widget-view+json": {
       "model_id": "e6d7d45069b8493e82be91e6eed5e2b3",
       "version_major": 2,
       "version_minor": 0
      },
      "text/plain": [
       "  0%|          | 0/5 [00:00<?, ?it/s]"
      ]
     },
     "metadata": {},
     "output_type": "display_data"
    },
    {
     "name": "stdout",
     "output_type": "stream",
     "text": [
      "Validating\n"
     ]
    },
    {
     "data": {
      "application/vnd.jupyter.widget-view+json": {
       "model_id": "24aee94512284cb5b0f91f0eea72362c",
       "version_major": 2,
       "version_minor": 0
      },
      "text/plain": [
       "  0%|          | 0/2 [00:00<?, ?it/s]"
      ]
     },
     "metadata": {},
     "output_type": "display_data"
    },
    {
     "name": "stdout",
     "output_type": "stream",
     "text": [
      "Epoch #0 train loss: 0.751\n",
      "Epoch #0 validation loss: 0.409\n",
      "Took 6.850 minutes for epoch 0\n",
      "SAVING MODEL COMPLETE...\n",
      "\n",
      "SAVING PLOTS COMPLETE...\n",
      "\n",
      "EPOCH 2 of 10\n",
      "Training\n"
     ]
    },
    {
     "data": {
      "application/vnd.jupyter.widget-view+json": {
       "model_id": "76ed92e856c84f4cb9515d13a1cf536a",
       "version_major": 2,
       "version_minor": 0
      },
      "text/plain": [
       "  0%|          | 0/5 [00:00<?, ?it/s]"
      ]
     },
     "metadata": {},
     "output_type": "display_data"
    },
    {
     "name": "stdout",
     "output_type": "stream",
     "text": [
      "Validating\n"
     ]
    },
    {
     "data": {
      "application/vnd.jupyter.widget-view+json": {
       "model_id": "a976fd6c2d4040ce85c5e2b5a853198f",
       "version_major": 2,
       "version_minor": 0
      },
      "text/plain": [
       "  0%|          | 0/2 [00:00<?, ?it/s]"
      ]
     },
     "metadata": {},
     "output_type": "display_data"
    },
    {
     "name": "stdout",
     "output_type": "stream",
     "text": [
      "Epoch #1 train loss: 0.349\n",
      "Epoch #1 validation loss: 0.384\n",
      "Took 4.915 minutes for epoch 1\n",
      "SAVING MODEL COMPLETE...\n",
      "\n",
      "SAVING PLOTS COMPLETE...\n",
      "\n",
      "EPOCH 3 of 10\n",
      "Training\n"
     ]
    },
    {
     "data": {
      "application/vnd.jupyter.widget-view+json": {
       "model_id": "1dd99169d6b64fc6bffd6c087c895c41",
       "version_major": 2,
       "version_minor": 0
      },
      "text/plain": [
       "  0%|          | 0/5 [00:00<?, ?it/s]"
      ]
     },
     "metadata": {},
     "output_type": "display_data"
    },
    {
     "name": "stdout",
     "output_type": "stream",
     "text": [
      "Validating\n"
     ]
    },
    {
     "data": {
      "application/vnd.jupyter.widget-view+json": {
       "model_id": "97325f984f6d4e3c8a0eb3816ba8565d",
       "version_major": 2,
       "version_minor": 0
      },
      "text/plain": [
       "  0%|          | 0/2 [00:00<?, ?it/s]"
      ]
     },
     "metadata": {},
     "output_type": "display_data"
    },
    {
     "name": "stdout",
     "output_type": "stream",
     "text": [
      "Epoch #2 train loss: 0.366\n",
      "Epoch #2 validation loss: 0.349\n",
      "Took 4.549 minutes for epoch 2\n",
      "SAVING MODEL COMPLETE...\n",
      "\n",
      "SAVING PLOTS COMPLETE...\n",
      "\n",
      "EPOCH 4 of 10\n",
      "Training\n"
     ]
    },
    {
     "data": {
      "application/vnd.jupyter.widget-view+json": {
       "model_id": "5c2f1da0982a46ec9e24a8319ee4a04e",
       "version_major": 2,
       "version_minor": 0
      },
      "text/plain": [
       "  0%|          | 0/5 [00:00<?, ?it/s]"
      ]
     },
     "metadata": {},
     "output_type": "display_data"
    },
    {
     "name": "stdout",
     "output_type": "stream",
     "text": [
      "Validating\n"
     ]
    },
    {
     "data": {
      "application/vnd.jupyter.widget-view+json": {
       "model_id": "03b68a53858143df877a79b5956a2dbc",
       "version_major": 2,
       "version_minor": 0
      },
      "text/plain": [
       "  0%|          | 0/2 [00:00<?, ?it/s]"
      ]
     },
     "metadata": {},
     "output_type": "display_data"
    },
    {
     "name": "stdout",
     "output_type": "stream",
     "text": [
      "Epoch #3 train loss: 0.329\n",
      "Epoch #3 validation loss: 0.346\n",
      "Took 3.886 minutes for epoch 3\n",
      "SAVING MODEL COMPLETE...\n",
      "\n",
      "SAVING PLOTS COMPLETE...\n",
      "\n",
      "EPOCH 5 of 10\n",
      "Training\n"
     ]
    },
    {
     "data": {
      "application/vnd.jupyter.widget-view+json": {
       "model_id": "e869b0f1961849dcb2b00f93aad3f6c8",
       "version_major": 2,
       "version_minor": 0
      },
      "text/plain": [
       "  0%|          | 0/5 [00:00<?, ?it/s]"
      ]
     },
     "metadata": {},
     "output_type": "display_data"
    },
    {
     "name": "stdout",
     "output_type": "stream",
     "text": [
      "Validating\n"
     ]
    },
    {
     "data": {
      "application/vnd.jupyter.widget-view+json": {
       "model_id": "6d3e9a7ce9fc4f6d9bc88dff46dd394f",
       "version_major": 2,
       "version_minor": 0
      },
      "text/plain": [
       "  0%|          | 0/2 [00:00<?, ?it/s]"
      ]
     },
     "metadata": {},
     "output_type": "display_data"
    },
    {
     "name": "stdout",
     "output_type": "stream",
     "text": [
      "Epoch #4 train loss: 0.328\n",
      "Epoch #4 validation loss: 0.309\n",
      "Took 3.725 minutes for epoch 4\n",
      "SAVING MODEL COMPLETE...\n",
      "\n",
      "SAVING PLOTS COMPLETE...\n",
      "\n",
      "EPOCH 6 of 10\n",
      "Training\n"
     ]
    },
    {
     "data": {
      "application/vnd.jupyter.widget-view+json": {
       "model_id": "f3a0efe8acd846da9e76db2d995a6e93",
       "version_major": 2,
       "version_minor": 0
      },
      "text/plain": [
       "  0%|          | 0/5 [00:00<?, ?it/s]"
      ]
     },
     "metadata": {},
     "output_type": "display_data"
    },
    {
     "name": "stdout",
     "output_type": "stream",
     "text": [
      "Validating\n"
     ]
    },
    {
     "data": {
      "application/vnd.jupyter.widget-view+json": {
       "model_id": "7d94940e47f64949a3d57f84d262ef13",
       "version_major": 2,
       "version_minor": 0
      },
      "text/plain": [
       "  0%|          | 0/2 [00:00<?, ?it/s]"
      ]
     },
     "metadata": {},
     "output_type": "display_data"
    },
    {
     "name": "stdout",
     "output_type": "stream",
     "text": [
      "Epoch #5 train loss: 0.321\n",
      "Epoch #5 validation loss: 0.289\n",
      "Took 3.891 minutes for epoch 5\n",
      "SAVING MODEL COMPLETE...\n",
      "\n",
      "SAVING PLOTS COMPLETE...\n",
      "\n",
      "EPOCH 7 of 10\n",
      "Training\n"
     ]
    },
    {
     "data": {
      "application/vnd.jupyter.widget-view+json": {
       "model_id": "22d21e2e75fc4d968bff08ba77333fab",
       "version_major": 2,
       "version_minor": 0
      },
      "text/plain": [
       "  0%|          | 0/5 [00:00<?, ?it/s]"
      ]
     },
     "metadata": {},
     "output_type": "display_data"
    },
    {
     "name": "stdout",
     "output_type": "stream",
     "text": [
      "Validating\n"
     ]
    },
    {
     "data": {
      "application/vnd.jupyter.widget-view+json": {
       "model_id": "aa48422bb0944e7f876ab852b97bb09f",
       "version_major": 2,
       "version_minor": 0
      },
      "text/plain": [
       "  0%|          | 0/2 [00:00<?, ?it/s]"
      ]
     },
     "metadata": {},
     "output_type": "display_data"
    },
    {
     "name": "stdout",
     "output_type": "stream",
     "text": [
      "Epoch #6 train loss: 0.310\n",
      "Epoch #6 validation loss: 0.277\n",
      "Took 4.108 minutes for epoch 6\n",
      "SAVING MODEL COMPLETE...\n",
      "\n",
      "SAVING PLOTS COMPLETE...\n",
      "\n",
      "EPOCH 8 of 10\n",
      "Training\n"
     ]
    },
    {
     "data": {
      "application/vnd.jupyter.widget-view+json": {
       "model_id": "af4d871edd6741a7be7aa082da295052",
       "version_major": 2,
       "version_minor": 0
      },
      "text/plain": [
       "  0%|          | 0/5 [00:00<?, ?it/s]"
      ]
     },
     "metadata": {},
     "output_type": "display_data"
    },
    {
     "name": "stdout",
     "output_type": "stream",
     "text": [
      "Validating\n"
     ]
    },
    {
     "data": {
      "application/vnd.jupyter.widget-view+json": {
       "model_id": "bf02c5de3644426da46a74d723e13337",
       "version_major": 2,
       "version_minor": 0
      },
      "text/plain": [
       "  0%|          | 0/2 [00:00<?, ?it/s]"
      ]
     },
     "metadata": {},
     "output_type": "display_data"
    },
    {
     "name": "stdout",
     "output_type": "stream",
     "text": [
      "Epoch #7 train loss: 0.298\n",
      "Epoch #7 validation loss: 0.256\n",
      "Took 3.955 minutes for epoch 7\n",
      "SAVING MODEL COMPLETE...\n",
      "\n",
      "SAVING PLOTS COMPLETE...\n",
      "\n",
      "EPOCH 9 of 10\n",
      "Training\n"
     ]
    },
    {
     "data": {
      "application/vnd.jupyter.widget-view+json": {
       "model_id": "50d95182a0f24d30ae6999087948af4a",
       "version_major": 2,
       "version_minor": 0
      },
      "text/plain": [
       "  0%|          | 0/5 [00:00<?, ?it/s]"
      ]
     },
     "metadata": {},
     "output_type": "display_data"
    },
    {
     "name": "stdout",
     "output_type": "stream",
     "text": [
      "Validating\n"
     ]
    },
    {
     "data": {
      "application/vnd.jupyter.widget-view+json": {
       "model_id": "2736abe506f8496d92f8fcb8ea43e250",
       "version_major": 2,
       "version_minor": 0
      },
      "text/plain": [
       "  0%|          | 0/2 [00:00<?, ?it/s]"
      ]
     },
     "metadata": {},
     "output_type": "display_data"
    },
    {
     "name": "stdout",
     "output_type": "stream",
     "text": [
      "Epoch #8 train loss: 0.262\n",
      "Epoch #8 validation loss: 0.239\n",
      "Took 4.087 minutes for epoch 8\n",
      "SAVING MODEL COMPLETE...\n",
      "\n",
      "SAVING PLOTS COMPLETE...\n",
      "\n",
      "EPOCH 10 of 10\n",
      "Training\n"
     ]
    },
    {
     "data": {
      "application/vnd.jupyter.widget-view+json": {
       "model_id": "ebc8674ad4ca42e791a957226f6fc5cf",
       "version_major": 2,
       "version_minor": 0
      },
      "text/plain": [
       "  0%|          | 0/5 [00:00<?, ?it/s]"
      ]
     },
     "metadata": {},
     "output_type": "display_data"
    },
    {
     "name": "stdout",
     "output_type": "stream",
     "text": [
      "Validating\n"
     ]
    },
    {
     "data": {
      "application/vnd.jupyter.widget-view+json": {
       "model_id": "f5f71eac66bb4569a5882429c46adf5b",
       "version_major": 2,
       "version_minor": 0
      },
      "text/plain": [
       "  0%|          | 0/2 [00:00<?, ?it/s]"
      ]
     },
     "metadata": {},
     "output_type": "display_data"
    },
    {
     "name": "stdout",
     "output_type": "stream",
     "text": [
      "Epoch #9 train loss: 0.266\n",
      "Epoch #9 validation loss: 0.209\n",
      "Took 4.197 minutes for epoch 9\n",
      "SAVING MODEL COMPLETE...\n",
      "\n",
      "SAVING PLOTS COMPLETE...\n"
     ]
    }
   ],
   "source": [
    "def train_model():\n",
    "    # initialize the model and move to the computation device\n",
    "    model = create_model(num_classes=NUM_CLASSES)\n",
    "    model = model.to(DEVICE)\n",
    "    # get the model parameters\n",
    "    params = [p for p in model.parameters() if p.requires_grad]\n",
    "    # define the optimizer\n",
    "    optimizer = torch.optim.SGD(params, lr=0.001, momentum=0.9, weight_decay=0.0005)\n",
    "    # initialize the Averager class\n",
    "    train_loss_hist = Averager()\n",
    "    val_loss_hist = Averager()\n",
    "    train_itr = 1\n",
    "    val_itr = 1\n",
    "    # train and validation loss lists to store loss values of all...\n",
    "    # ... iterations till ena and plot graphs for all iterations\n",
    "    train_loss_list = []\n",
    "    val_loss_list = []\n",
    "    # name to save the trained model with\n",
    "    MODEL_NAME = 'model'\n",
    "    # whether to show transformed images from data loader or not\n",
    "    if VISUALIZE_TRANSFORMED_IMAGES:\n",
    "        from utils import show_tranformed_image\n",
    "\n",
    "        show_tranformed_image(train_loader)\n",
    "    # start the training epochs\n",
    "    for epoch in range(NUM_EPOCHS):\n",
    "        print(f\"\\nEPOCH {epoch + 1} of {NUM_EPOCHS}\")\n",
    "        # reset the training and validation loss histories for the current epoch\n",
    "        train_loss_hist.reset()\n",
    "        val_loss_hist.reset()\n",
    "        # create two subplots, one for each, training and validation\n",
    "        figure_1, train_ax = plt.subplots()\n",
    "        figure_2, valid_ax = plt.subplots()\n",
    "        # start timer and carry out training and validation\n",
    "        start = time.time()\n",
    "        train_loss = train(train_loader, model)\n",
    "        val_loss = validate(valid_loader, model)\n",
    "        print(f\"Epoch #{epoch} train loss: {train_loss_hist.value:.3f}\")\n",
    "        print(f\"Epoch #{epoch} validation loss: {val_loss_hist.value:.3f}\")\n",
    "        end = time.time()\n",
    "        print(f\"Took {((end - start) / 60):.3f} minutes for epoch {epoch}\")\n",
    "        if (epoch + 1) % SAVE_MODEL_EPOCH == 0:  # save model after every n epochs\n",
    "            torch.save(model.state_dict(), f\"{OUT_DIR}/model{epoch + 1}.pth\")\n",
    "            print('SAVING MODEL COMPLETE...\\n')\n",
    "\n",
    "        if (epoch + 1) % SAVE_PLOTS_EPOCH == 0:  # save loss plots after n epochs\n",
    "            train_ax.plot(train_loss, color='blue')\n",
    "            train_ax.set_xlabel('iterations')\n",
    "            train_ax.set_ylabel('train loss')\n",
    "            valid_ax.plot(val_loss, color='red')\n",
    "            valid_ax.set_xlabel('iterations')\n",
    "            valid_ax.set_ylabel('validation loss')\n",
    "            figure_1.savefig(f\"{OUT_DIR}/train_loss_{epoch + 1}.png\")\n",
    "            figure_2.savefig(f\"{OUT_DIR}/valid_loss_{epoch + 1}.png\")\n",
    "            print('SAVING PLOTS COMPLETE...')\n",
    "\n",
    "        if (epoch + 1) == NUM_EPOCHS:  # save loss plots and model once at the end\n",
    "            train_ax.plot(train_loss, color='blue')\n",
    "            train_ax.set_xlabel('iterations')\n",
    "            train_ax.set_ylabel('train loss')\n",
    "            valid_ax.plot(val_loss, color='red')\n",
    "            valid_ax.set_xlabel('iterations')\n",
    "            valid_ax.set_ylabel('validation loss')\n",
    "            figure_1.savefig(f\"{OUT_DIR}/train_loss_{epoch + 1}.png\")\n",
    "            figure_2.savefig(f\"{OUT_DIR}/valid_loss_{epoch + 1}.png\")\n",
    "            torch.save(model.state_dict(), f\"{OUT_DIR}/model{epoch + 1}.pth\")\n",
    "\n",
    "        plt.close('all')"
   ]
  },
  {
   "cell_type": "code",
   "execution_count": null,
   "id": "c484a6b0",
   "metadata": {},
   "outputs": [],
   "source": []
  },
  {
   "cell_type": "code",
   "execution_count": null,
   "id": "416adaa1",
   "metadata": {},
   "outputs": [],
   "source": []
  }
 ],
 "metadata": {
  "kernelspec": {
   "display_name": "Python 3 (ipykernel)",
   "language": "python",
   "name": "python3"
  },
  "language_info": {
   "codemirror_mode": {
    "name": "ipython",
    "version": 3
   },
   "file_extension": ".py",
   "mimetype": "text/x-python",
   "name": "python",
   "nbconvert_exporter": "python",
   "pygments_lexer": "ipython3",
   "version": "3.9.12"
  }
 },
 "nbformat": 4,
 "nbformat_minor": 5
}
